{
 "cells": [
  {
   "cell_type": "code",
   "execution_count": 2,
   "metadata": {},
   "outputs": [],
   "source": [
    "students = ['suresh','ramya','yasmin','nihar','tarun','syeda','sneha']"
   ]
  },
  {
   "cell_type": "code",
   "execution_count": 3,
   "metadata": {},
   "outputs": [
    {
     "name": "stdout",
     "output_type": "stream",
     "text": [
      "['suresh', 'ramya', 'yasmin', 'nihar', 'tarun', 'syeda', 'sneha']\n"
     ]
    }
   ],
   "source": [
    "print(students)"
   ]
  },
  {
   "cell_type": "code",
   "execution_count": 12,
   "metadata": {},
   "outputs": [
    {
     "name": "stdout",
     "output_type": "stream",
     "text": [
      "Keep up the Good Work, Suresh\n",
      "I am lookng forward to receive your files of today, Suresh\n",
      "\n",
      "Keep up the Good Work, Ramya\n",
      "I am lookng forward to receive your files of today, Ramya\n",
      "\n",
      "Keep up the Good Work, Yasmin\n",
      "I am lookng forward to receive your files of today, Yasmin\n",
      "\n",
      "Keep up the Good Work, Nihar\n",
      "I am lookng forward to receive your files of today, Nihar\n",
      "\n",
      "Keep up the Good Work, Tarun\n",
      "I am lookng forward to receive your files of today, Tarun\n",
      "\n",
      "Keep up the Good Work, Syeda\n",
      "I am lookng forward to receive your files of today, Syeda\n",
      "\n",
      "Keep up the Good Work, Sneha\n",
      "I am lookng forward to receive your files of today, Sneha\n",
      "\n",
      "Thank you all for joining the python sessions\n"
     ]
    }
   ],
   "source": [
    "for st in students:\n",
    " print(f\"Keep up the Good Work, {st.title()}\")\n",
    " print(f\"I am lookng forward to receive your files of today, {st.title()}\\n\")\n",
    "\n",
    "print('Thank you all for joining the python sessions')"
   ]
  },
  {
   "cell_type": "code",
   "execution_count": 17,
   "metadata": {},
   "outputs": [
    {
     "name": "stdout",
     "output_type": "stream",
     "text": [
      "Rahul\n",
      "NILESH\n",
      "Sahana\n",
      "Rohini\n",
      "Manish\n",
      "Dinesh\n"
     ]
    }
   ],
   "source": [
    "my_students = ['rahul','nilesh','sahana','rohini','manish','dinesh']\n",
    "for st in my_students:\n",
    " if st == \"nilesh\":\n",
    "   print(st.upper())\n",
    " else:\n",
    "   print(st.title())"
   ]
  },
  {
   "cell_type": "code",
   "execution_count": 18,
   "metadata": {},
   "outputs": [],
   "source": [
    "my_students = ['rahul','nilesh','sahana','rohini','manish','dinesh']"
   ]
  },
  {
   "cell_type": "code",
   "execution_count": 19,
   "metadata": {},
   "outputs": [
    {
     "name": "stdout",
     "output_type": "stream",
     "text": [
      "['rahul', 'nilesh']\n"
     ]
    }
   ],
   "source": [
    "print(my_students[0:2])"
   ]
  },
  {
   "cell_type": "code",
   "execution_count": 20,
   "metadata": {},
   "outputs": [
    {
     "name": "stdout",
     "output_type": "stream",
     "text": [
      "['sahana', 'rohini']\n"
     ]
    }
   ],
   "source": [
    "print(my_students[2:4])"
   ]
  },
  {
   "cell_type": "code",
   "execution_count": null,
   "metadata": {},
   "outputs": [],
   "source": []
  }
 ],
 "metadata": {
  "kernelspec": {
   "display_name": "Python 3",
   "language": "python",
   "name": "python3"
  },
  "language_info": {
   "codemirror_mode": {
    "name": "ipython",
    "version": 3
   },
   "file_extension": ".py",
   "mimetype": "text/x-python",
   "name": "python",
   "nbconvert_exporter": "python",
   "pygments_lexer": "ipython3",
   "version": "3.7.6"
  }
 },
 "nbformat": 4,
 "nbformat_minor": 4
}
